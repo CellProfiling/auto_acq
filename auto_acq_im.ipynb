{
 "metadata": {
  "name": "",
  "signature": "sha256:1cf6971503d0dc99a4fccc8c25668392ea38053555ffd690dde0b5b4c3747313"
 },
 "nbformat": 3,
 "nbformat_minor": 0,
 "worksheets": [
  {
   "cells": [
    {
     "cell_type": "code",
     "collapsed": false,
     "input": [
      "import numpy as np\n",
      "import scipy.misc"
     ],
     "language": "python",
     "metadata": {},
     "outputs": [],
     "prompt_number": 15
    },
    {
     "cell_type": "code",
     "collapsed": false,
     "input": [
      "image_data = scipy.misc.imread('/home/martin/Skrivbord/1286/subfolder/exp1/slide--S00/chamber--U00--V00/field--X00--Y00/image--L0000--S00--U00--V00--J08--E00--O01--X00--Y00--T0000--Z00--C10.ome.tif')"
     ],
     "language": "python",
     "metadata": {},
     "outputs": [],
     "prompt_number": 5
    },
    {
     "cell_type": "code",
     "collapsed": false,
     "input": [
      "image_data_2 = scipy.misc.imread('/home/martin/Skrivbord/1286/subfolder/exp1/slide--S00/chamber--U00--V00/field--X01--Y01/image--L0000--S00--U00--V00--J08--E00--O01--X03--Y03--T0000--Z00--C10.ome.tif')"
     ],
     "language": "python",
     "metadata": {},
     "outputs": [],
     "prompt_number": 9
    },
    {
     "cell_type": "code",
     "collapsed": false,
     "input": [
      "len(sum(image_data))"
     ],
     "language": "python",
     "metadata": {},
     "outputs": [
      {
       "metadata": {},
       "output_type": "pyout",
       "prompt_number": 7,
       "text": [
        "512"
       ]
      }
     ],
     "prompt_number": 7
    },
    {
     "cell_type": "code",
     "collapsed": false,
     "input": [
      "len(image_data)"
     ],
     "language": "python",
     "metadata": {},
     "outputs": [
      {
       "metadata": {},
       "output_type": "pyout",
       "prompt_number": 8,
       "text": [
        "512"
       ]
      }
     ],
     "prompt_number": 8
    },
    {
     "cell_type": "code",
     "collapsed": false,
     "input": [
      "np.maximum.reduce([image_data,image_data_2])"
     ],
     "language": "python",
     "metadata": {},
     "outputs": [
      {
       "metadata": {},
       "output_type": "pyout",
       "prompt_number": 10,
       "text": [
        "array([[   0,    0,    0, ...,    0,    0,    0],\n",
        "       [   0,    0,    0, ...,    0,    0,    0],\n",
        "       [   0,    0,    0, ...,    0,    0,    0],\n",
        "       ..., \n",
        "       [ 154,    0,    0, ...,    0, 5685,    0],\n",
        "       [   0,    0,    0, ..., 8417,    0,    0],\n",
        "       [   0,    0,    0, ..., 2915,    0, 3264]], dtype=uint16)"
       ]
      }
     ],
     "prompt_number": 10
    },
    {
     "cell_type": "code",
     "collapsed": false,
     "input": [
      "imsave('/home/martin/Skrivbord/test_out.tif', np.maximum.reduce([image_data,image_data_2]))"
     ],
     "language": "python",
     "metadata": {},
     "outputs": [],
     "prompt_number": 20
    },
    {
     "cell_type": "code",
     "collapsed": false,
     "input": [
      "image_data.shape"
     ],
     "language": "python",
     "metadata": {},
     "outputs": [
      {
       "metadata": {},
       "output_type": "pyout",
       "prompt_number": 13,
       "text": [
        "(512, 512)"
       ]
      }
     ],
     "prompt_number": 13
    },
    {
     "cell_type": "code",
     "collapsed": false,
     "input": [
      "img = scipy.misc.toimage(np.maximum.reduce([image_data,image_data_2]), high=65535, low=0, mode='I')"
     ],
     "language": "python",
     "metadata": {},
     "outputs": [],
     "prompt_number": 19
    },
    {
     "cell_type": "code",
     "collapsed": false,
     "input": [
      "img.save('/home/martin/Skrivbord/my16bit.tif')"
     ],
     "language": "python",
     "metadata": {},
     "outputs": [],
     "prompt_number": 22
    },
    {
     "cell_type": "code",
     "collapsed": false,
     "input": [],
     "language": "python",
     "metadata": {},
     "outputs": []
    }
   ],
   "metadata": {}
  }
 ]
}