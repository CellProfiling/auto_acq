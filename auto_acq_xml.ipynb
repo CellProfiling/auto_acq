{
 "metadata": {
  "name": "auto_acq_xml"
 },
 "nbformat": 3,
 "nbformat_minor": 0,
 "worksheets": [
  {
   "cells": [
    {
     "cell_type": "code",
     "collapsed": false,
     "input": [
      "import csv\n",
      "import numpy\n",
      "gain_file = \"/home/martin/Dev/auto_acq/sec_output_gains.csv\"\n",
      "gains = []\n",
      "with open(gain_file) as _file:\n",
      "    reader = csv.DictReader(_file)\n",
      "    for i in reader:\n",
      "        gains.append(i)\n",
      "def create_dict(input_list, output_dict, key, value):\n",
      "    for i in input_list:\n",
      "        output_dict[i[key]] = i[value]\n",
      "    return output_dict\n",
      "green = {}\n",
      "blue = {}\n",
      "yellow = {}\n",
      "red = {}\n",
      "green = create_dict(gains, green, \"well\", \"green\")\n",
      "blue = create_dict(gains, blue, \"well\", \"blue\")\n",
      "yellow = create_dict(gains, yellow, \"well\", \"yellow\")\n",
      "red = create_dict(gains, red, \"well\", \"red\")\n"
     ],
     "language": "python",
     "metadata": {},
     "outputs": [],
     "prompt_number": 1
    },
    {
     "cell_type": "code",
     "collapsed": false,
     "input": [
      "def round_values(input_dict, output_list):\n",
      "    for k, v in input_dict.iteritems():\n",
      "        v = int(round(int(v), -1))\n",
      "        input_dict[k] = v\n",
      "        output_list.append(v)\n",
      "    return"
     ],
     "language": "python",
     "metadata": {},
     "outputs": [],
     "prompt_number": 2
    },
    {
     "cell_type": "code",
     "collapsed": false,
     "input": [
      "green_list = []\n",
      "round_values(green, green_list)\n",
      "green_unique = sorted(set(green_list))"
     ],
     "language": "python",
     "metadata": {},
     "outputs": [],
     "prompt_number": 3
    },
    {
     "cell_type": "code",
     "collapsed": false,
     "input": [
      "blue_list = []\n",
      "round_values(blue, blue_list)\n",
      "blue_median = int(numpy.median(blue_list))"
     ],
     "language": "python",
     "metadata": {},
     "outputs": [],
     "prompt_number": 4
    },
    {
     "cell_type": "code",
     "collapsed": false,
     "input": [
      "import csv\n",
      "\n",
      "coord_file = \"/home/martin/Dev/auto_acq/63x_coords.csv\"\n",
      "coords = []\n",
      "with open(coord_file) as _file:\n",
      "    reader = csv.DictReader(_file)\n",
      "    for i in reader:\n",
      "        coords.append(i)\n",
      "\n",
      "def create_dict(input_list, output_dict, key, value):\n",
      "    for i in input_list:\n",
      "        output_dict[i[key]] = i[value]\n",
      "    return output_dict\n",
      "\n",
      "# Sort coord data into dicts\n",
      "dxs = {}\n",
      "dys = {}\n",
      "dxs = create_dict(coords, dxs, \"well\", \"dx\")\n",
      "dys = create_dict(coords, dys, \"well\", \"dy\")\n",
      "\n",
      "xml_doc = etree.parse('/home/martin/Skrivbord/test4.xml')\n",
      "\n",
      "enable = etree.parse('/home/martin/Dev/auto_acq/enable.xsl')\n",
      "\n",
      "t_enable = etree.XSLT(enable)\n",
      "\n",
      "# For each pos in green_unique, copy job, change gain in channels,\n",
      "# assign the job if value of green_unique matches any value in green\n",
      "\n",
      "for k, v in dxs.iteritems():\n",
      "    # change xcoord in well k\n",
      "    wellx = str(int(k[1:3])+1)\n",
      "    welly = str(int(k[6:8])+1)\n",
      "    fieldx = str(int(k[11:13])+1)\n",
      "    fieldy = str(int(k[16:18])+1)\n",
      "    dx = v\n",
      "    dy = dys[k]\n",
      "    xml_doc = t_enable(xml_doc, WELLX=wellx, WELLY=welly, FIELDX=fieldx,\n",
      "            FIELDY=fieldy, DX=str(dx), DY=str(dy))\n",
      "\n",
      "# Save the xml to file\n",
      "xml_doc.write('/home/martin/Skrivbord/test5.xml', pretty_print=False)"
     ],
     "language": "python",
     "metadata": {},
     "outputs": [],
     "prompt_number": 12
    },
    {
     "cell_type": "code",
     "collapsed": false,
     "input": [
      "from lxml import etree\n",
      "doc = etree.parse('/home/martin/Skrivbord/{ScanningTemplate}si10_40x.lrp')\n",
      "xslt_root = etree.parse('/home/martin/Dev/auto_acq/copy_job.xsl')\n",
      "transform = etree.XSLT(xslt_root)"
     ],
     "language": "python",
     "metadata": {},
     "outputs": [],
     "prompt_number": 148
    },
    {
     "cell_type": "code",
     "collapsed": false,
     "input": [
      "result = transform(doc, BLOCKID=\"114\", NEWBLOCKID=\"117\", ELEMENTID=\"39\")"
     ],
     "language": "python",
     "metadata": {},
     "outputs": [],
     "prompt_number": 149
    },
    {
     "cell_type": "code",
     "collapsed": false,
     "input": [
      "result.write('/home/martin/Skrivbord/test.xml', pretty_print=False)"
     ],
     "language": "python",
     "metadata": {},
     "outputs": [],
     "prompt_number": 150
    },
    {
     "cell_type": "code",
     "collapsed": false,
     "input": [
      "from lxml import etree\n",
      "doc = etree.parse('/home/martin/Skrivbord/test4.xml')\n",
      "xslt_root = etree.parse('/home/martin/Dev/auto_acq/enable.xsl')\n",
      "transform = etree.XSLT(xslt_root)\n",
      "result = transform(doc, WELLX=\"1\", WELLY=\"1\", FIELDX=\"1\", FIELDY=\"1\", DX=\"123.123\", DY=\"456.456\")"
     ],
     "language": "python",
     "metadata": {},
     "outputs": [],
     "prompt_number": 5
    },
    {
     "cell_type": "code",
     "collapsed": false,
     "input": [
      "result.write('/home/martin/Skrivbord/test5.xml', pretty_print=False)"
     ],
     "language": "python",
     "metadata": {},
     "outputs": [],
     "prompt_number": 6
    },
    {
     "cell_type": "code",
     "collapsed": false,
     "input": [],
     "language": "python",
     "metadata": {},
     "outputs": []
    }
   ],
   "metadata": {}
  }
 ]
}