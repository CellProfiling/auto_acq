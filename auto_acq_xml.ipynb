{
 "metadata": {
  "name": "auto_acq_xml"
 },
 "nbformat": 3,
 "nbformat_minor": 0,
 "worksheets": [
  {
   "cells": [
    {
     "cell_type": "code",
     "collapsed": false,
     "input": [
      "from lxml import etree"
     ],
     "language": "python",
     "metadata": {},
     "outputs": [],
     "prompt_number": 1
    },
    {
     "cell_type": "code",
     "collapsed": false,
     "input": [
      "from PIL import Image"
     ],
     "language": "python",
     "metadata": {},
     "outputs": [],
     "prompt_number": 2
    },
    {
     "cell_type": "code",
     "collapsed": false,
     "input": [
      "from copy import deepcopy"
     ],
     "language": "python",
     "metadata": {},
     "outputs": [],
     "prompt_number": 3
    },
    {
     "cell_type": "code",
     "collapsed": false,
     "input": [
      "doc = etree.parse('/home/martin/Skrivbord/{ScanningTemplate}si10_10x.xml')"
     ],
     "language": "python",
     "metadata": {},
     "outputs": [],
     "prompt_number": 4
    },
    {
     "cell_type": "code",
     "collapsed": false,
     "input": [
      "print(doc.find(\"MatrixScreenerTemplate\"))"
     ],
     "language": "python",
     "metadata": {},
     "outputs": [
      {
       "output_type": "stream",
       "stream": "stdout",
       "text": [
        "None\n"
       ]
      }
     ],
     "prompt_number": 5
    },
    {
     "cell_type": "code",
     "collapsed": false,
     "input": [
      "print(doc.findtext('//EnableTrigger'))"
     ],
     "language": "python",
     "metadata": {},
     "outputs": [
      {
       "output_type": "stream",
       "stream": "stdout",
       "text": [
        "false\n"
       ]
      }
     ],
     "prompt_number": 6
    },
    {
     "cell_type": "code",
     "collapsed": false,
     "input": [
      "scan_field_datas = doc.findall(\"//ScanFieldData\")"
     ],
     "language": "python",
     "metadata": {},
     "outputs": [],
     "prompt_number": 7
    },
    {
     "cell_type": "code",
     "collapsed": false,
     "input": [
      "scan_field_datas[0].findtext(\"FieldXCoordinate\")"
     ],
     "language": "python",
     "metadata": {},
     "outputs": [
      {
       "output_type": "pyout",
       "prompt_number": 8,
       "text": [
        "'0.00480309812675'"
       ]
      }
     ],
     "prompt_number": 8
    },
    {
     "cell_type": "code",
     "collapsed": false,
     "input": [
      "scan_field_datas[0].attrib['JobId']"
     ],
     "language": "python",
     "metadata": {},
     "outputs": [
      {
       "output_type": "pyout",
       "prompt_number": 9,
       "text": [
        "'21'"
       ]
      }
     ],
     "prompt_number": 9
    },
    {
     "cell_type": "code",
     "collapsed": false,
     "input": [
      "scan_field_datas[0].attrib['WellX']"
     ],
     "language": "python",
     "metadata": {},
     "outputs": [
      {
       "output_type": "pyout",
       "prompt_number": 10,
       "text": [
        "'1'"
       ]
      }
     ],
     "prompt_number": 10
    },
    {
     "cell_type": "code",
     "collapsed": false,
     "input": [
      "well_field = scan_field_datas[0].attrib['WellX']+scan_field_datas[0].attrib['WellY']+scan_field_datas[0].attrib['FieldX']+scan_field_datas[0].attrib['FieldY']"
     ],
     "language": "python",
     "metadata": {},
     "outputs": [],
     "prompt_number": 11
    },
    {
     "cell_type": "code",
     "collapsed": false,
     "input": [
      "well_field"
     ],
     "language": "python",
     "metadata": {},
     "outputs": [
      {
       "output_type": "pyout",
       "prompt_number": 12,
       "text": [
        "'1111'"
       ]
      }
     ],
     "prompt_number": 12
    },
    {
     "cell_type": "code",
     "collapsed": false,
     "input": [
      "well_job_name_dict = {}\n",
      "well_job_name_dict['11'] = 'Job16'"
     ],
     "language": "python",
     "metadata": {},
     "outputs": [],
     "prompt_number": 13
    },
    {
     "cell_type": "code",
     "collapsed": false,
     "input": [
      "job_name = well_job_name_dict[scan_field_datas[0].attrib['WellX']+scan_field_datas[0].attrib['WellY']]"
     ],
     "language": "python",
     "metadata": {},
     "outputs": [],
     "prompt_number": 14
    },
    {
     "cell_type": "code",
     "collapsed": false,
     "input": [
      "job_name"
     ],
     "language": "python",
     "metadata": {},
     "outputs": [
      {
       "output_type": "pyout",
       "prompt_number": 15,
       "text": [
        "'Job16'"
       ]
      }
     ],
     "prompt_number": 15
    },
    {
     "cell_type": "code",
     "collapsed": false,
     "input": [
      "job_name_job_id_dict = {}\n",
      "job_name_job_id_dict['Job16'] = '9'"
     ],
     "language": "python",
     "metadata": {},
     "outputs": [],
     "prompt_number": 16
    },
    {
     "cell_type": "code",
     "collapsed": false,
     "input": [
      "job_id = job_name_job_id_dict[well_job_name_dict[scan_field_datas[0].attrib['WellX']+scan_field_datas[0].attrib['WellY']]]"
     ],
     "language": "python",
     "metadata": {},
     "outputs": [],
     "prompt_number": 17
    },
    {
     "cell_type": "code",
     "collapsed": false,
     "input": [
      "job_id"
     ],
     "language": "python",
     "metadata": {},
     "outputs": [
      {
       "output_type": "pyout",
       "prompt_number": 18,
       "text": [
        "'9'"
       ]
      }
     ],
     "prompt_number": 18
    },
    {
     "cell_type": "code",
     "collapsed": false,
     "input": [
      "if job_name != None:\n",
      "    print(\"true\")"
     ],
     "language": "python",
     "metadata": {},
     "outputs": [
      {
       "output_type": "stream",
       "stream": "stdout",
       "text": [
        "true\n"
       ]
      }
     ],
     "prompt_number": 19
    },
    {
     "cell_type": "code",
     "collapsed": false,
     "input": [
      "scan_field_datas[0].attrib['JobName']"
     ],
     "language": "python",
     "metadata": {},
     "outputs": [
      {
       "output_type": "pyout",
       "prompt_number": 20,
       "text": [
        "'imaging21'"
       ]
      }
     ],
     "prompt_number": 20
    },
    {
     "cell_type": "code",
     "collapsed": false,
     "input": [
      "len(scan_field_datas)"
     ],
     "language": "python",
     "metadata": {},
     "outputs": [
      {
       "output_type": "pyout",
       "prompt_number": 21,
       "text": [
        "384"
       ]
      }
     ],
     "prompt_number": 21
    },
    {
     "cell_type": "code",
     "collapsed": false,
     "input": [
      "scan_field_datas[0].attrib['JobName'] = job_name"
     ],
     "language": "python",
     "metadata": {},
     "outputs": [],
     "prompt_number": 22
    },
    {
     "cell_type": "code",
     "collapsed": false,
     "input": [
      "scan_field_datas[0].attrib['JobName']"
     ],
     "language": "python",
     "metadata": {},
     "outputs": [
      {
       "output_type": "pyout",
       "prompt_number": 23,
       "text": [
        "'Job16'"
       ]
      }
     ],
     "prompt_number": 23
    },
    {
     "cell_type": "code",
     "collapsed": false,
     "input": [
      "scan_field_datas[0].set('JobName', 'Job02')"
     ],
     "language": "python",
     "metadata": {},
     "outputs": [],
     "prompt_number": 24
    },
    {
     "cell_type": "code",
     "collapsed": false,
     "input": [
      "doc.write('/home/martin/Skrivbord/test.xml', pretty_print=False)"
     ],
     "language": "python",
     "metadata": {},
     "outputs": [],
     "prompt_number": 25
    },
    {
     "cell_type": "code",
     "collapsed": false,
     "input": [
      "image_file = '/home/martin/Skrivbord/Gain/field--X01--Y01/image--L0000--S00--U00--V00--J19--E00--O01--X01--Y01--T0000--Z00--C00.ome.tif'"
     ],
     "language": "python",
     "metadata": {},
     "outputs": [],
     "prompt_number": 26
    },
    {
     "cell_type": "code",
     "collapsed": false,
     "input": [
      "image_file"
     ],
     "language": "python",
     "metadata": {},
     "outputs": [
      {
       "output_type": "pyout",
       "prompt_number": 27,
       "text": [
        "'/home/martin/Skrivbord/Gain/field--X01--Y01/image--L0000--S00--U00--V00--J19--E00--O01--X01--Y01--T0000--Z00--C00.ome.tif'"
       ]
      }
     ],
     "prompt_number": 27
    },
    {
     "cell_type": "code",
     "collapsed": false,
     "input": [
      "image = Image.open(image_file)"
     ],
     "language": "python",
     "metadata": {},
     "outputs": [],
     "prompt_number": 28
    },
    {
     "cell_type": "code",
     "collapsed": false,
     "input": [
      "histo = image.histogram()"
     ],
     "language": "python",
     "metadata": {},
     "outputs": [],
     "prompt_number": 29
    },
    {
     "cell_type": "code",
     "collapsed": false,
     "input": [
      "len(histo)"
     ],
     "language": "python",
     "metadata": {},
     "outputs": [
      {
       "output_type": "pyout",
       "prompt_number": 30,
       "text": [
        "256"
       ]
      }
     ],
     "prompt_number": 30
    },
    {
     "cell_type": "code",
     "collapsed": false,
     "input": [
      "histo[-1]"
     ],
     "language": "python",
     "metadata": {},
     "outputs": [
      {
       "output_type": "pyout",
       "prompt_number": 31,
       "text": [
        "124"
       ]
      }
     ],
     "prompt_number": 31
    },
    {
     "cell_type": "code",
     "collapsed": false,
     "input": [
      "channel_string = image_file[len(image_file)-10:len(image_file)-8]"
     ],
     "language": "python",
     "metadata": {},
     "outputs": [],
     "prompt_number": 32
    },
    {
     "cell_type": "code",
     "collapsed": false,
     "input": [
      "channel_number = int(channel_string)\n",
      "channel_number"
     ],
     "language": "python",
     "metadata": {},
     "outputs": [
      {
       "output_type": "pyout",
       "prompt_number": 33,
       "text": [
        "0"
       ]
      }
     ],
     "prompt_number": 33
    },
    {
     "cell_type": "code",
     "collapsed": false,
     "input": [
      "well = scan_field_datas[0].attrib['WellX']+scan_field_datas[0].attrib['WellY']"
     ],
     "language": "python",
     "metadata": {},
     "outputs": [],
     "prompt_number": 34
    },
    {
     "cell_type": "code",
     "collapsed": false,
     "input": [
      "job_number_string = well_job_name_dict[well][-2:]\n",
      "job_number_string"
     ],
     "language": "python",
     "metadata": {},
     "outputs": [
      {
       "output_type": "pyout",
       "prompt_number": 35,
       "text": [
        "'16'"
       ]
      }
     ],
     "prompt_number": 35
    },
    {
     "cell_type": "code",
     "collapsed": false,
     "input": [
      "job_number = int(job_number_string)\n",
      "job_number"
     ],
     "language": "python",
     "metadata": {},
     "outputs": [
      {
       "output_type": "pyout",
       "prompt_number": 36,
       "text": [
        "16"
       ]
      }
     ],
     "prompt_number": 36
    },
    {
     "cell_type": "code",
     "collapsed": false,
     "input": [
      "if (histo[-1] >=13) & (channel_number+1 <= job_number):\n",
      "    job_number = channel_number+1\n",
      "    well_job_name_dict[well] = 'Job'+str(job_number)\n",
      "    print('good')"
     ],
     "language": "python",
     "metadata": {},
     "outputs": [
      {
       "output_type": "stream",
       "stream": "stdout",
       "text": [
        "good\n"
       ]
      }
     ],
     "prompt_number": 37
    },
    {
     "cell_type": "code",
     "collapsed": false,
     "input": [
      "well_job_name_dict[well]"
     ],
     "language": "python",
     "metadata": {},
     "outputs": [
      {
       "output_type": "pyout",
       "prompt_number": 38,
       "text": [
        "'Job1'"
       ]
      }
     ],
     "prompt_number": 38
    },
    {
     "cell_type": "code",
     "collapsed": false,
     "input": [
      "gain_dicts = [\n",
      "    { \"well\": \"1\", \"green\": 100 , \"blue\": 101 , \"yellow\": 102 , \"red\": 103},\n",
      "    { \"well\": \"2\", \"green\": 200 , \"blue\": 201 , \"yellow\": 202 , \"red\": 203},\n",
      "    { \"well\": \"3\", \"green\": 300 , \"blue\": 301 , \"yellow\": 302 , \"red\": 303},\n",
      "    { \"well\": \"4\", \"green\": 400 , \"blue\": 401 , \"yellow\": 402 , \"red\": 403}\n",
      "]"
     ],
     "language": "python",
     "metadata": {},
     "outputs": [],
     "prompt_number": 39
    },
    {
     "cell_type": "code",
     "collapsed": false,
     "input": [
      "next((item for item in gain_dicts if item[\"well\"] == \"1\"), None)"
     ],
     "language": "python",
     "metadata": {},
     "outputs": [
      {
       "output_type": "pyout",
       "prompt_number": 40,
       "text": [
        "{'blue': 101, 'green': 100, 'red': 103, 'well': '1', 'yellow': 102}"
       ]
      }
     ],
     "prompt_number": 40
    },
    {
     "cell_type": "code",
     "collapsed": false,
     "input": [
      "next((item for item in gain_dicts if item[\"well\"] == \"1\"), None)['green']"
     ],
     "language": "python",
     "metadata": {},
     "outputs": [
      {
       "output_type": "pyout",
       "prompt_number": 41,
       "text": [
        "100"
       ]
      }
     ],
     "prompt_number": 41
    },
    {
     "cell_type": "code",
     "collapsed": false,
     "input": [
      "import csv\n",
      "import numpy\n",
      "gain_file = \"/home/martin/Dev/auto_acq/sec_output_gains.csv\"\n",
      "gains = []\n",
      "with open(gain_file) as _file:\n",
      "    reader = csv.DictReader(_file)\n",
      "    for i in reader:\n",
      "        gains.append(i)\n",
      "def create_dict(input_list, output_dict, key, value):\n",
      "    for i in input_list:\n",
      "        output_dict[i[key]] = i[value]\n",
      "    return output_dict\n",
      "green = {}\n",
      "blue = {}\n",
      "yellow = {}\n",
      "red = {}\n",
      "green = create_dict(gains, green, \"well\", \"green\")\n",
      "blue = create_dict(gains, blue, \"well\", \"blue\")\n",
      "yellow = create_dict(gains, yellow, \"well\", \"yellow\")\n",
      "red = create_dict(gains, red, \"well\", \"red\")\n"
     ],
     "language": "python",
     "metadata": {},
     "outputs": [],
     "prompt_number": 227
    },
    {
     "cell_type": "code",
     "collapsed": false,
     "input": [
      "def round_values(input_dict, output_list):\n",
      "    for k, v in input_dict.iteritems():\n",
      "        v = int(round(int(v), -1))\n",
      "        input_dict[k] = v\n",
      "        output_list.append(v)\n",
      "    return"
     ],
     "language": "python",
     "metadata": {},
     "outputs": [],
     "prompt_number": 228
    },
    {
     "cell_type": "code",
     "collapsed": false,
     "input": [
      "green_list = []\n",
      "round_values(green, green_list)\n",
      "green_unique = sorted(set(green_list))"
     ],
     "language": "python",
     "metadata": {},
     "outputs": [],
     "prompt_number": 229
    },
    {
     "cell_type": "code",
     "collapsed": false,
     "input": [
      "blue_list = []\n",
      "round_values(blue, blue_list)\n",
      "blue_median = int(numpy.median(blue_list))"
     ],
     "language": "python",
     "metadata": {},
     "outputs": [],
     "prompt_number": 230
    },
    {
     "cell_type": "code",
     "collapsed": false,
     "input": [
      "from lxml import etree\n",
      "doc = etree.parse('/home/martin/Skrivbord/{ScanningTemplate}si10_40x.lrp')\n",
      "xslt_root = etree.parse('/home/martin/Dev/auto_acq/copy_job.xsl')\n",
      "transform = etree.XSLT(xslt_root)"
     ],
     "language": "python",
     "metadata": {},
     "outputs": [],
     "prompt_number": 148
    },
    {
     "cell_type": "code",
     "collapsed": false,
     "input": [
      "result = transform(doc, BLOCKID=\"114\", NEWBLOCKID=\"117\", ELEMENTID=\"39\")"
     ],
     "language": "python",
     "metadata": {},
     "outputs": [],
     "prompt_number": 149
    },
    {
     "cell_type": "code",
     "collapsed": false,
     "input": [
      "result.write('/home/martin/Skrivbord/test.xml', pretty_print=False)"
     ],
     "language": "python",
     "metadata": {},
     "outputs": [],
     "prompt_number": 150
    },
    {
     "cell_type": "code",
     "collapsed": false,
     "input": [
      "from lxml import etree\n",
      "doc = etree.parse('/home/martin/Skrivbord/test.xml')\n",
      "xslt_root = etree.parse('/home/martin/Dev/auto_acq/copy_job.xsl')\n",
      "transform = etree.XSLT(xslt_root)"
     ],
     "language": "python",
     "metadata": {},
     "outputs": [],
     "prompt_number": 151
    },
    {
     "cell_type": "code",
     "collapsed": false,
     "input": [
      "result = transform(doc, NEWBLOCKID=\"117\", BLOCKNAME=\"'imaging117'\")"
     ],
     "language": "python",
     "metadata": {},
     "outputs": [],
     "prompt_number": 152
    },
    {
     "cell_type": "code",
     "collapsed": false,
     "input": [
      "result.write('/home/martin/Skrivbord/test1.xml', pretty_print=False)"
     ],
     "language": "python",
     "metadata": {},
     "outputs": [],
     "prompt_number": 153
    },
    {
     "cell_type": "code",
     "collapsed": false,
     "input": [
      "from lxml import etree\n",
      "doc = etree.parse('/home/martin/Skrivbord/test1.xml')\n",
      "xslt_root = etree.parse('/home/martin/Dev/auto_acq/copy_job.xsl')\n",
      "transform = etree.XSLT(xslt_root)"
     ],
     "language": "python",
     "metadata": {},
     "outputs": [],
     "prompt_number": 174
    },
    {
     "cell_type": "code",
     "collapsed": false,
     "input": [
      "for i in range(4):\n",
      "    us_name = 'S'+str(277+i+2)\n",
      "    plain_string_value = etree.XSLT.strparam(us_name)\n",
      "    doc = transform(doc, NEWBLOCKID=\"117\", SEQ=str(i+1), USNAME=plain_string_value)"
     ],
     "language": "python",
     "metadata": {},
     "outputs": [
      {
       "output_type": "stream",
       "stream": "stdout",
       "text": [
        "2\n",
        "1\n",
        "S279\n",
        "3"
       ]
      },
      {
       "output_type": "stream",
       "stream": "stdout",
       "text": [
        "\n",
        "2\n",
        "S280\n",
        "4"
       ]
      },
      {
       "output_type": "stream",
       "stream": "stdout",
       "text": [
        "\n",
        "3\n",
        "S281\n",
        "5"
       ]
      },
      {
       "output_type": "stream",
       "stream": "stdout",
       "text": [
        "\n",
        "4\n",
        "S282\n"
       ]
      }
     ],
     "prompt_number": 175
    },
    {
     "cell_type": "code",
     "collapsed": false,
     "input": [
      "doc.write('/home/martin/Skrivbord/test2.xml', pretty_print=False)"
     ],
     "language": "python",
     "metadata": {},
     "outputs": [],
     "prompt_number": 176
    },
    {
     "cell_type": "code",
     "collapsed": false,
     "input": [
      "doc = etree.parse('/home/martin/Skrivbord/test2.xml')\n",
      "xslt_root = etree.parse('/home/martin/Dev/auto_acq/getval.xsl')\n",
      "transform = etree.XSLT(xslt_root)\n",
      "result = transform(doc, USNAME=\"2\")"
     ],
     "language": "python",
     "metadata": {},
     "outputs": [],
     "prompt_number": 235
    },
    {
     "cell_type": "code",
     "collapsed": false,
     "input": [
      "last_us_name = str(result).split(\"\\n\")[-2]"
     ],
     "language": "python",
     "metadata": {},
     "outputs": [],
     "prompt_number": 237
    },
    {
     "cell_type": "code",
     "collapsed": false,
     "input": [
      "import re\n",
      "int(re.sub(r\"\\D\", \"\", last_us_name))"
     ],
     "language": "python",
     "metadata": {},
     "outputs": [
      {
       "output_type": "pyout",
       "prompt_number": 239,
       "text": [
        "282"
       ]
      }
     ],
     "prompt_number": 239
    },
    {
     "cell_type": "code",
     "collapsed": false,
     "input": [
      "doc = etree.parse('/home/martin/Skrivbord/test2.xml')\n",
      "xslt_root = etree.parse('/home/martin/Dev/auto_acq/gain_set.xsl')\n",
      "transform = etree.XSLT(xslt_root)\n",
      "result = transform(doc, BLOCKID=\"117\", CHANNEL=\"'blue'\", GAIN=str(blue_median))"
     ],
     "language": "python",
     "metadata": {},
     "outputs": [],
     "prompt_number": 231
    },
    {
     "cell_type": "code",
     "collapsed": false,
     "input": [
      "result.write('/home/martin/Skrivbord/test3.xml', pretty_print=False)"
     ],
     "language": "python",
     "metadata": {},
     "outputs": [],
     "prompt_number": 232
    },
    {
     "cell_type": "code",
     "collapsed": false,
     "input": [
      "doc = etree.parse('/home/martin/Skrivbord/{ScanningTemplate}si10_40x.xml')\n",
      "xslt_root = etree.parse('/home/martin/Dev/auto_acq/enable.xsl')\n",
      "transform = etree.XSLT(xslt_root)\n",
      "result = transform(doc, WELLX=\"1\", WELLY=\"1\", FIELDX=\"1\", FIELDY=\"1\", ENABLE=\"'true'\", JOBID=\"117\", JOBNAME=\"'imaging117'\", DRIFT=\"'true'\")"
     ],
     "language": "python",
     "metadata": {},
     "outputs": [],
     "prompt_number": 242
    },
    {
     "cell_type": "code",
     "collapsed": false,
     "input": [
      "result.write('/home/martin/Skrivbord/test4.xml', pretty_print=False)"
     ],
     "language": "python",
     "metadata": {},
     "outputs": [],
     "prompt_number": 243
    },
    {
     "cell_type": "code",
     "collapsed": false,
     "input": [
      "range(4)"
     ],
     "language": "python",
     "metadata": {},
     "outputs": [
      {
       "output_type": "pyout",
       "prompt_number": 250,
       "text": [
        "[0, 1, 2, 3]"
       ]
      }
     ],
     "prompt_number": 250
    },
    {
     "cell_type": "code",
     "collapsed": false,
     "input": [
      "for k, v in green.iteritems():\n",
      "    print(k)\n",
      "    print(k[1:3])\n",
      "    print(int(k[1:3])+1)\n",
      "    print(k[6:8])"
     ],
     "language": "python",
     "metadata": {},
     "outputs": [
      {
       "output_type": "stream",
       "stream": "stdout",
       "text": [
        "U06--V00--\n",
        "06\n",
        "7\n",
        "00\n",
        "U06--V01--\n",
        "06\n",
        "7\n",
        "01\n",
        "U06--V06--\n",
        "06\n",
        "7\n",
        "06\n",
        "U03--V01--\n",
        "03\n",
        "4\n",
        "01\n",
        "U03--V06--\n",
        "03\n",
        "4\n",
        "06\n",
        "U03--V04--\n",
        "03\n",
        "4\n",
        "04\n",
        "U03--V07--\n",
        "03\n",
        "4\n",
        "07\n",
        "U09--V07--\n",
        "09\n",
        "10\n",
        "07\n",
        "U09--V05--\n",
        "09\n",
        "10\n",
        "05\n",
        "U00--V01--\n",
        "00\n",
        "1\n",
        "01\n",
        "U06--V02--\n",
        "06\n",
        "7\n",
        "02\n",
        "U00--V07--\n",
        "00\n",
        "1\n",
        "07\n",
        "U00--V05--\n",
        "00\n",
        "1\n",
        "05\n",
        "U06--V03--\n",
        "06\n",
        "7\n",
        "03\n",
        "U00--V06--\n",
        "00\n",
        "1\n",
        "06\n",
        "U06--V05--\n",
        "06\n",
        "7\n",
        "05\n",
        "U03--V00--\n",
        "03\n",
        "4\n",
        "00\n",
        "U06--V07--\n",
        "06\n",
        "7\n",
        "07\n",
        "U09--V03--\n",
        "09\n",
        "10\n",
        "03\n",
        "U03--V03--\n",
        "03\n",
        "4\n",
        "03\n",
        "U03--V02--\n",
        "03\n",
        "4\n",
        "02\n",
        "U06--V04--\n",
        "06\n",
        "7\n",
        "04\n",
        "U00--V02--\n",
        "00\n",
        "1\n",
        "02\n",
        "U09--V02--\n",
        "09\n",
        "10\n",
        "02\n",
        "U03--V05--\n",
        "03\n",
        "4\n",
        "05\n",
        "U00--V03--\n",
        "00\n",
        "1\n",
        "03\n",
        "U09--V04--\n",
        "09\n",
        "10\n",
        "04\n",
        "U09--V01--\n",
        "09\n",
        "10\n",
        "01\n",
        "U00--V04--\n",
        "00\n",
        "1\n",
        "04\n",
        "U09--V00--\n",
        "09\n",
        "10\n",
        "00\n",
        "U09--V06--\n",
        "09\n",
        "10\n",
        "06\n",
        "U00--V00--\n",
        "00\n",
        "1\n",
        "00\n"
       ]
      }
     ],
     "prompt_number": 257
    },
    {
     "cell_type": "code",
     "collapsed": false,
     "input": [
      "test = 'qwertyuio'\n",
      "print(test[0:-4])"
     ],
     "language": "python",
     "metadata": {},
     "outputs": [
      {
       "output_type": "stream",
       "stream": "stdout",
       "text": [
        "qwert\n"
       ]
      }
     ],
     "prompt_number": 260
    },
    {
     "cell_type": "code",
     "collapsed": false,
     "input": [],
     "language": "python",
     "metadata": {},
     "outputs": []
    }
   ],
   "metadata": {}
  }
 ]
}